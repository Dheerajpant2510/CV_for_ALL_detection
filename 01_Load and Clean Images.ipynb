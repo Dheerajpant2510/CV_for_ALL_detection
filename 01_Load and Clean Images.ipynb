{
  "nbformat": 4,
  "nbformat_minor": 0,
  "metadata": {
    "colab": {
      "provenance": [],
      "authorship_tag": "ABX9TyMODt+E8KE9CdXzvl9vEZqc",
      "include_colab_link": true
    },
    "kernelspec": {
      "name": "python3",
      "display_name": "Python 3"
    },
    "language_info": {
      "name": "python"
    }
  },
  "cells": [
    {
      "cell_type": "markdown",
      "metadata": {
        "id": "view-in-github",
        "colab_type": "text"
      },
      "source": [
        "<a href=\"https://colab.research.google.com/github/Dheerajpant2510/CV_for_ALL_detection/blob/main/01_Load%20and%20Clean%20Images.ipynb\" target=\"_parent\"><img src=\"https://colab.research.google.com/assets/colab-badge.svg\" alt=\"Open In Colab\"/></a>"
      ]
    },
    {
      "cell_type": "code",
      "execution_count": 1,
      "metadata": {
        "id": "5XaxWCv-5ObT"
      },
      "outputs": [],
      "source": [
        "import numpy as np\n",
        "import matplotlib.pyplot as plt\n",
        "%matplotlib inline\n",
        "plt.style.use('fivethirtyeight')\n",
        "\n",
        "from PIL import Image\n",
        "import keras\n",
        "from tensorflow.keras.preprocessing import image, image_dataset_from_directory\n",
        "from tensorflow.keras import models, layers, optimizers\n",
        "from keras.callbacks import ModelCheckpoint\n",
        "from tensorflow.keras.layers import BatchNormalization\n",
        "\n",
        "import os\n",
        "import gc\n",
        "from timeit import default_timer as timer\n",
        "import zipfile\n"
      ]
    },
    {
      "cell_type": "code",
      "source": [
        "#mount \n",
        "from google.colab import drive\n",
        "drive.mount('/content/drive/')\n",
        "#drive/My Drive/"
      ],
      "metadata": {
        "id": "dfTLJvmx5amN",
        "outputId": "909db1b1-c7a8-4a3d-bdba-fb8f25cb954a",
        "colab": {
          "base_uri": "https://localhost:8080/"
        }
      },
      "execution_count": 4,
      "outputs": [
        {
          "output_type": "stream",
          "name": "stdout",
          "text": [
            "Mounted at /content/drive/\n"
          ]
        }
      ]
    },
    {
      "cell_type": "code",
      "source": [
        "%cd '/content/drive/My Drive/Data_Sets/Omdena'\n",
        "!unzip -q liverpool_chapter_image_data.zip -d destination_folder\n"
      ],
      "metadata": {
        "id": "4Fl5FXBGJumQ",
        "outputId": "3a42f5d1-df40-4412-c18d-ca141166ab7c",
        "colab": {
          "base_uri": "https://localhost:8080/"
        }
      },
      "execution_count": 9,
      "outputs": [
        {
          "output_type": "stream",
          "name": "stdout",
          "text": [
            "/content/drive/My Drive/Data_Sets/Omdena\n"
          ]
        }
      ]
    },
    {
      "cell_type": "code",
      "source": [
        "%cd '/content/drive/My Drive/Data_Sets/Omdena/destination_folder/trainin_data/fold_0/'\n"
      ],
      "metadata": {
        "id": "ydoZJbQyJ9pU"
      },
      "execution_count": null,
      "outputs": []
    }
  ]
}