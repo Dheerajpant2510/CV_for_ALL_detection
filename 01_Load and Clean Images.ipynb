{
  "nbformat": 4,
  "nbformat_minor": 0,
  "metadata": {
    "colab": {
      "provenance": [],
      "authorship_tag": "ABX9TyMZCwXUBF8V1uZzHolgFqec",
      "include_colab_link": true
    },
    "kernelspec": {
      "name": "python3",
      "display_name": "Python 3"
    },
    "language_info": {
      "name": "python"
    }
  },
  "cells": [
    {
      "cell_type": "markdown",
      "metadata": {
        "id": "view-in-github",
        "colab_type": "text"
      },
      "source": [
        "<a href=\"https://colab.research.google.com/github/Dheerajpant2510/CV_for_ALL_detection/blob/main/01_Load%20and%20Clean%20Images.ipynb\" target=\"_parent\"><img src=\"https://colab.research.google.com/assets/colab-badge.svg\" alt=\"Open In Colab\"/></a>"
      ]
    },
    {
      "cell_type": "code",
      "execution_count": 11,
      "metadata": {
        "id": "5XaxWCv-5ObT"
      },
      "outputs": [],
      "source": [
        "import numpy as np\n",
        "\n",
        "import matplotlib.pyplot as plt\n",
        "%matplotlib inline\n",
        "plt.style.use('fivethirtyeight')\n",
        "\n",
        "from PIL import Image\n",
        "from tensorflow.keras.preprocessing import image, image_dataset_from_directory\n",
        "from tensorflow.keras import models, layers, optimizers\n",
        "from keras.callbacks import ModelCheckpoint, EarlyStopping\n",
        "from tensorflow.keras.layers import BatchNormalization\n",
        "\n",
        "import os\n",
        "import gc\n",
        "from timeit import default_timer as timer"
      ]
    },
    {
      "cell_type": "code",
      "source": [
        "def get_imlist(path):\n",
        "    return [os.path.join(path,f) for f in os.listdir(path) if f.endswith('.bmp')]"
      ],
      "metadata": {
        "id": "dfTLJvmx5amN"
      },
      "execution_count": 3,
      "outputs": []
    },
    {
      "cell_type": "code",
      "source": [
        "\n",
        "# Organize images and their labels into a dataframe\n",
        "# Give image file path and label type to the function \n",
        "def dataImport(path,pathType):\n",
        "    imageList = []\n",
        "    if pathType not in ('ALL','HEM'):\n",
        "        raise ValueError(\"Entry must be either 'ALL' or 'HEM'\")\n",
        "    else:\n",
        "        if pathType == 'HEM':\n",
        "            loadPath = get_imlist(path) \n",
        "            for paths in loadPath:\n",
        "                imageList.append({'Images':Image.open(paths),'Labels':0})\n",
        "        else:\n",
        "            loadPath = get_imlist(path) \n",
        "            for paths in loadPath:\n",
        "                imageList.append({'Images':Image.open(paths),'Labels':1})\n",
        "    imageData = pd.DataFrame(imageList)\n",
        "    return imageData"
      ],
      "metadata": {
        "id": "5C49-i1Q5dQY"
      },
      "execution_count": 4,
      "outputs": []
    },
    {
      "cell_type": "code",
      "source": [
        "def load_images_labels_from_df(df, img_size):\n",
        "    images = []\n",
        "    labels = []\n",
        "    \n",
        "    for _, row in df.iterrows():\n",
        "        label = row['Labels']\n",
        "        img_data = row['Images']\n",
        "        img_resized = img_data.resize((img_size, img_size)) #resize images (128*128, 256*256 etc)\n",
        "        img_array = np.array(img_resized) / 255.0  # Normalize pixel values\n",
        "        images.append(img_array)\n",
        "        labels.append(label)\n",
        "    \n",
        "    images = np.array(images)\n",
        "    labels = np.array(labels)\n",
        "\n",
        "    # Augmentation: A technique to create more and different images from existing images using various transformation method\n",
        "    augmentation = preprocessing.image.ImageDataGenerator(\n",
        "                                                        rotation_range=20, # image rotation range\n",
        "                                                        width_shift_range=20, # horizontal shift during augmentation\n",
        "                                                        height_shift_range=20, # vertical shift during augmentation\n",
        "                                                        shear_range=20, # shear angle shift during augmentation\n",
        "                                                        zoom_range=20, # image zoom-in or out during augmentation\n",
        "                                                        horizontal_flip=True, \n",
        "                                                        fill_mode='nearest', # how to fill empty spaces created during augmentation*\n",
        "                                                        vertical_flip=True\n",
        "                                                    )\n",
        "    \n",
        "    augmentation.fit(images)\n",
        "    augmentedImage_generator = augmentation.flow(images, labels, batch_size=32)\n",
        "\n",
        "    return augmentedImage_generator\n",
        "\n",
        "\n",
        "# different fill_mode: 1) nearest 2)constant 3)reflect 4)wrap"
      ],
      "metadata": {
        "id": "catQxI7g5he5"
      },
      "execution_count": 5,
      "outputs": []
    },
    {
      "cell_type": "code",
      "source": [
        "import zipfile\n"
      ],
      "metadata": {
        "id": "0BgBgGVi7dyO"
      },
      "execution_count": 6,
      "outputs": []
    },
    {
      "cell_type": "code",
      "source": [
        "zip_file = zipfile.ZipFile('https://drive.google.com/file/d/1ZDC5G4hMJObCbfcK8KiTFWCAZ8nBiOO6/view')\n"
      ],
      "metadata": {
        "colab": {
          "base_uri": "https://localhost:8080/",
          "height": 305
        },
        "id": "w-i0CAQc7jCs",
        "outputId": "8f3a91c6-e512-40ae-c022-e6e1e71721ee"
      },
      "execution_count": 10,
      "outputs": [
        {
          "output_type": "error",
          "ename": "FileNotFoundError",
          "evalue": "ignored",
          "traceback": [
            "\u001b[0;31m---------------------------------------------------------------------------\u001b[0m",
            "\u001b[0;31mFileNotFoundError\u001b[0m                         Traceback (most recent call last)",
            "\u001b[0;32m<ipython-input-10-b76c38144ee8>\u001b[0m in \u001b[0;36m<module>\u001b[0;34m\u001b[0m\n\u001b[0;32m----> 1\u001b[0;31m \u001b[0mzip_file\u001b[0m \u001b[0;34m=\u001b[0m \u001b[0mzipfile\u001b[0m\u001b[0;34m.\u001b[0m\u001b[0mZipFile\u001b[0m\u001b[0;34m(\u001b[0m\u001b[0;34m'https://drive.google.com/file/d/1ZDC5G4hMJObCbfcK8KiTFWCAZ8nBiOO6/view'\u001b[0m\u001b[0;34m)\u001b[0m\u001b[0;34m\u001b[0m\u001b[0;34m\u001b[0m\u001b[0m\n\u001b[0m",
            "\u001b[0;32m/usr/lib/python3.9/zipfile.py\u001b[0m in \u001b[0;36m__init__\u001b[0;34m(self, file, mode, compression, allowZip64, compresslevel, strict_timestamps)\u001b[0m\n\u001b[1;32m   1246\u001b[0m             \u001b[0;32mwhile\u001b[0m \u001b[0;32mTrue\u001b[0m\u001b[0;34m:\u001b[0m\u001b[0;34m\u001b[0m\u001b[0;34m\u001b[0m\u001b[0m\n\u001b[1;32m   1247\u001b[0m                 \u001b[0;32mtry\u001b[0m\u001b[0;34m:\u001b[0m\u001b[0;34m\u001b[0m\u001b[0;34m\u001b[0m\u001b[0m\n\u001b[0;32m-> 1248\u001b[0;31m                     \u001b[0mself\u001b[0m\u001b[0;34m.\u001b[0m\u001b[0mfp\u001b[0m \u001b[0;34m=\u001b[0m \u001b[0mio\u001b[0m\u001b[0;34m.\u001b[0m\u001b[0mopen\u001b[0m\u001b[0;34m(\u001b[0m\u001b[0mfile\u001b[0m\u001b[0;34m,\u001b[0m \u001b[0mfilemode\u001b[0m\u001b[0;34m)\u001b[0m\u001b[0;34m\u001b[0m\u001b[0;34m\u001b[0m\u001b[0m\n\u001b[0m\u001b[1;32m   1249\u001b[0m                 \u001b[0;32mexcept\u001b[0m \u001b[0mOSError\u001b[0m\u001b[0;34m:\u001b[0m\u001b[0;34m\u001b[0m\u001b[0;34m\u001b[0m\u001b[0m\n\u001b[1;32m   1250\u001b[0m                     \u001b[0;32mif\u001b[0m \u001b[0mfilemode\u001b[0m \u001b[0;32min\u001b[0m \u001b[0mmodeDict\u001b[0m\u001b[0;34m:\u001b[0m\u001b[0;34m\u001b[0m\u001b[0;34m\u001b[0m\u001b[0m\n",
            "\u001b[0;31mFileNotFoundError\u001b[0m: [Errno 2] No such file or directory: 'https://drive.google.com/file/d/1ZDC5G4hMJObCbfcK8KiTFWCAZ8nBiOO6/view'"
          ]
        }
      ]
    },
    {
      "cell_type": "code",
      "source": [],
      "metadata": {
        "id": "k7pr7lHb7jEm"
      },
      "execution_count": 8,
      "outputs": []
    },
    {
      "cell_type": "code",
      "source": [],
      "metadata": {
        "colab": {
          "base_uri": "https://localhost:8080/",
          "height": 166
        },
        "id": "WB2tBdiA7oD8",
        "outputId": "81b38192-b846-4832-d286-1c4197ac0c5d"
      },
      "execution_count": 9,
      "outputs": [
        {
          "output_type": "error",
          "ename": "AttributeError",
          "evalue": "ignored",
          "traceback": [
            "\u001b[0;31m---------------------------------------------------------------------------\u001b[0m",
            "\u001b[0;31mAttributeError\u001b[0m                            Traceback (most recent call last)",
            "\u001b[0;32m<ipython-input-9-d86cfd44b672>\u001b[0m in \u001b[0;36m<module>\u001b[0;34m\u001b[0m\n\u001b[0;32m----> 1\u001b[0;31m \u001b[0mos\u001b[0m\u001b[0;34m.\u001b[0m\u001b[0mdir\u001b[0m\u001b[0;34m\u001b[0m\u001b[0;34m\u001b[0m\u001b[0m\n\u001b[0m",
            "\u001b[0;31mAttributeError\u001b[0m: module 'os' has no attribute 'dir'"
          ]
        }
      ]
    }
  ]
}